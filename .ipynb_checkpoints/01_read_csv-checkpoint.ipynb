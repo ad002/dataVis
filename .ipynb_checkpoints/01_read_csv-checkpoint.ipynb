{
 "cells": [
  {
   "cell_type": "code",
   "execution_count": 4,
   "metadata": {},
   "outputs": [
    {
     "name": "stdout",
     "output_type": "stream",
     "text": [
      "            timestamp                username        followers  \\\n",
      "0 2019-03-11 07:58:19           foodofhamburg  {'count': 1029}   \n",
      "1 2019-03-12 06:40:40  monumentum_photography   {'count': 508}   \n",
      "2 2019-03-12 06:41:50          queence_design   {'count': 232}   \n",
      "3 2019-03-12 06:42:54           foodofhamburg  {'count': 1030}   \n",
      "4 2019-03-12 06:44:00           moinworld_e.v   {'count': 477}   \n",
      "\n",
      "         following  posts  likes  comments  \n",
      "0  {'count': 1289}    103   1069        22  \n",
      "1   {'count': 832}     61    693        18  \n",
      "2   {'count': 340}     37    375        11  \n",
      "3  {'count': 1318}    105   1015        20  \n",
      "4   {'count': 842}    129    580        22  \n"
     ]
    }
   ],
   "source": [
    "#First, we have to read in the data we need which is in our current folder\n",
    "import pandas as pd\n",
    "\n",
    "df = pd.read_excel('stats.xlsx')\n",
    "print(df.head())"
   ]
  },
  {
   "cell_type": "code",
   "execution_count": 5,
   "metadata": {},
   "outputs": [],
   "source": [
    "'''FORMATTING THE 'FOLLOWERS' COLUMN'''\n",
    "#First, remove the curly brackets from the 'followers'-column with apply(lambda x: x.replace('toReplace','ReplaceWith'))\n",
    "df['followers']=df['followers'].apply(lambda x: x.replace('{','').replace('}',''))\n",
    "#print(df)"
   ]
  },
  {
   "cell_type": "code",
   "execution_count": 6,
   "metadata": {},
   "outputs": [],
   "source": [
    "#Removing the 'count'\n",
    "df['followers']=df['followers'].apply(lambda x: x.replace('count',''))\n",
    "#print(df)"
   ]
  },
  {
   "cell_type": "code",
   "execution_count": 7,
   "metadata": {},
   "outputs": [],
   "source": [
    "#Removing the '' which only works when using both \"\" '' symicolons\n",
    "df['followers']=df['followers'].apply(lambda x: x.replace(\"''\",''))\n",
    "#print(df)"
   ]
  },
  {
   "cell_type": "code",
   "execution_count": 9,
   "metadata": {},
   "outputs": [
    {
     "name": "stdout",
     "output_type": "stream",
     "text": [
      "            timestamp                username followers        following  \\\n",
      "0 2019-03-11 07:58:19           foodofhamburg      1029  {'count': 1289}   \n",
      "1 2019-03-12 06:40:40  monumentum_photography       508   {'count': 832}   \n",
      "2 2019-03-12 06:41:50          queence_design       232   {'count': 340}   \n",
      "3 2019-03-12 06:42:54           foodofhamburg      1030  {'count': 1318}   \n",
      "4 2019-03-12 06:44:00           moinworld_e.v       477   {'count': 842}   \n",
      "\n",
      "   posts  likes  comments  \n",
      "0    103   1069        22  \n",
      "1     61    693        18  \n",
      "2     37    375        11  \n",
      "3    105   1015        20  \n",
      "4    129    580        22  \n"
     ]
    }
   ],
   "source": [
    "#Finally: Removing the ':'\n",
    "df['followers']=df['followers'].apply(lambda x: x.replace(':',''))\n",
    "print(df.head())"
   ]
  },
  {
   "cell_type": "code",
   "execution_count": 10,
   "metadata": {},
   "outputs": [],
   "source": [
    "#Now, just convert the whole column to int \n",
    "df['followers']=df['followers'].astype(int)"
   ]
  },
  {
   "cell_type": "code",
   "execution_count": 11,
   "metadata": {},
   "outputs": [
    {
     "name": "stdout",
     "output_type": "stream",
     "text": [
      "              timestamp                username  followers following  posts  \\\n",
      "0   2019-03-11 07:58:19           foodofhamburg       1029      1289    103   \n",
      "1   2019-03-12 06:40:40  monumentum_photography        508       832     61   \n",
      "2   2019-03-12 06:41:50          queence_design        232       340     37   \n",
      "3   2019-03-12 06:42:54           foodofhamburg       1030      1318    105   \n",
      "4   2019-03-12 06:44:00           moinworld_e.v        477       842    129   \n",
      "5   2019-03-13 06:37:20  monumentum_photography        501       832     62   \n",
      "6   2019-03-13 06:38:26          queence_design        234       346     39   \n",
      "7   2019-03-13 06:39:30           foodofhamburg       1004      1320    108   \n",
      "8   2019-03-13 06:40:39           moinworld_e.v        477       842    129   \n",
      "9   2019-03-14 06:47:38  monumentum_photography        501       831     62   \n",
      "10  2019-03-14 06:48:42          queence_design        242       350     40   \n",
      "11  2019-03-14 06:49:44           foodofhamburg       1020      1335    110   \n",
      "12  2019-03-14 06:50:51           moinworld_e.v        483       843    129   \n",
      "13  2019-03-15 06:52:46  monumentum_photography        507       848     62   \n",
      "14  2019-03-15 06:53:51          queence_design        235       352     40   \n",
      "15  2019-03-15 06:54:53           foodofhamburg       1008      1333    112   \n",
      "16  2019-03-15 06:55:57           moinworld_e.v        486       844    130   \n",
      "17  2019-03-18 07:01:24  monumentum_photography        548       930     64   \n",
      "18  2019-03-18 07:02:29          queence_design        272       398     46   \n",
      "19  2019-03-18 07:03:30           foodofhamburg       1040      1423    114   \n",
      "20  2019-03-18 07:04:34           moinworld_e.v        482       844    130   \n",
      "21  2019-03-19 07:02:07  monumentum_photography        568       962     66   \n",
      "22  2019-03-19 07:03:12          queence_design        299       419     48   \n",
      "23  2019-03-19 07:04:14           foodofhamburg       1060      1465    114   \n",
      "24  2019-03-19 07:05:18           moinworld_e.v        490       844    131   \n",
      "25  2019-03-20 06:59:11  monumentum_photography        578       997     67   \n",
      "26  2019-03-20 07:00:14          queence_design        321       441     48   \n",
      "27  2019-03-20 07:01:14           foodofhamburg       1091      1503    114   \n",
      "28  2019-03-20 07:02:14           moinworld_e.v        485       845    132   \n",
      "29  2019-03-21 09:23:40  monumentum_photography        607      1028     69   \n",
      "..                  ...                     ...        ...       ...    ...   \n",
      "103 2019-04-16 08:04:11           foodofhamburg       1675      2417    114   \n",
      "104 2019-04-16 08:05:11           moinworld_e.v        502       843    135   \n",
      "105 2019-04-17 08:01:42  monumentum_photography        934       844     85   \n",
      "106 2019-04-17 08:02:46          queence_design        673      1136     80   \n",
      "107 2019-04-17 08:03:50           foodofhamburg       1693      2457    114   \n",
      "108 2019-04-17 08:04:47           moinworld_e.v        501       843    135   \n",
      "109 2019-04-18 08:01:17  monumentum_photography        955       861     86   \n",
      "110 2019-04-18 08:02:21          queence_design        701      1156     82   \n",
      "111 2019-04-18 08:03:25           foodofhamburg       1713      2492    114   \n",
      "112 2019-04-18 08:04:22           moinworld_e.v        504       842    135   \n",
      "113 2019-04-19 08:01:51  monumentum_photography        985       871     87   \n",
      "114 2019-04-19 08:02:53          queence_design        726      1196     83   \n",
      "115 2019-04-19 08:03:57           foodofhamburg       1743      2524    114   \n",
      "116 2019-04-19 08:04:56           moinworld_e.v        504       843    135   \n",
      "117 2019-04-20 08:01:25  monumentum_photography        994       883     87   \n",
      "118 2019-04-20 08:02:28          queence_design        727      1205     83   \n",
      "119 2019-04-20 08:03:34           foodofhamburg       1778      2549    114   \n",
      "120 2019-04-20 08:04:33           moinworld_e.v        502       842    135   \n",
      "121 2019-04-21 08:02:04  monumentum_photography       1010       904     88   \n",
      "122 2019-04-21 08:03:07          queence_design        715      1205     83   \n",
      "123 2019-04-21 08:04:11           foodofhamburg       1801      2579    114   \n",
      "124 2019-04-21 08:05:10           moinworld_e.v        501       842    135   \n",
      "125 2019-04-22 08:01:41  monumentum_photography       1010       915     88   \n",
      "126 2019-04-22 08:02:45          queence_design        696      1203     83   \n",
      "127 2019-04-22 08:03:49           foodofhamburg       1809      2603    114   \n",
      "128 2019-04-22 08:04:47           moinworld_e.v        499       842    135   \n",
      "129 2019-04-23 08:01:15  monumentum_photography       1036       922     90   \n",
      "130 2019-04-23 08:02:18          queence_design        692      1204     85   \n",
      "131 2019-04-23 08:03:22           foodofhamburg       1835      2641    114   \n",
      "132 2019-04-23 08:04:21           moinworld_e.v        501       841    135   \n",
      "\n",
      "     likes  comments  \n",
      "0     1069        22  \n",
      "1      693        18  \n",
      "2      375        11  \n",
      "3     1015        20  \n",
      "4      580        22  \n",
      "5      621        18  \n",
      "6      324        12  \n",
      "7      810        13  \n",
      "8      581        22  \n",
      "9      639        18  \n",
      "10     352        11  \n",
      "11     658        12  \n",
      "12     583        23  \n",
      "13     673        18  \n",
      "14     355        11  \n",
      "15     527        11  \n",
      "16     559        23  \n",
      "17     625        13  \n",
      "18     361         8  \n",
      "19     569         8  \n",
      "20     573        24  \n",
      "21     601        10  \n",
      "22     375         9  \n",
      "23     653        10  \n",
      "24     567        24  \n",
      "25     609         9  \n",
      "26     416         8  \n",
      "27     731        11  \n",
      "28     548        21  \n",
      "29     605         7  \n",
      "..     ...       ...  \n",
      "103   2319        39  \n",
      "104    544        22  \n",
      "105    722        15  \n",
      "106    511        10  \n",
      "107   2365        39  \n",
      "108    545        22  \n",
      "109    741        14  \n",
      "110    500         8  \n",
      "111   2407        39  \n",
      "112    547        22  \n",
      "113    756        19  \n",
      "114    537        10  \n",
      "115   2500        43  \n",
      "116    547        22  \n",
      "117    796        19  \n",
      "118    556        10  \n",
      "119   2565        44  \n",
      "120    548        22  \n",
      "121    768        20  \n",
      "122    559        10  \n",
      "123   2605        44  \n",
      "124    549        22  \n",
      "125    788        20  \n",
      "126    568        10  \n",
      "127   2661        45  \n",
      "128    549        22  \n",
      "129    749        19  \n",
      "130    531         9  \n",
      "131   2707        46  \n",
      "132    549        22  \n",
      "\n",
      "[133 rows x 7 columns]\n"
     ]
    }
   ],
   "source": [
    "'''FORMATTING THE FOLLOWING COLUMN'''\n",
    "#Removing the curly brackets\n",
    "df['following']=df['following'].apply(lambda x: x.replace('{','').replace('}',''))\n",
    "#Removing the 'count'\n",
    "df['following']=df['following'].apply(lambda x: x.replace('count',''))\n",
    "#Removing the '' which only works when using both \"\" '' symicolons\n",
    "df['following']=df['following'].apply(lambda x: x.replace(\"''\",''))\n",
    "#Finally: Removing the ':'\n",
    "df['following']=df['following'].apply(lambda x: x.replace(':',''))\n",
    "print(df)"
   ]
  },
  {
   "cell_type": "code",
   "execution_count": 12,
   "metadata": {},
   "outputs": [],
   "source": [
    "#Converting to int\n",
    "df['following']=df['following'].astype(int)"
   ]
  },
  {
   "cell_type": "code",
   "execution_count": 13,
   "metadata": {},
   "outputs": [],
   "source": [
    "'''NOW SELECTING THE EXACT USERNAME WE WANT AND ASSIGN TO VARIABLE'''\n",
    "\n",
    "#.loc method allows to select columns and rows by label(s)\n",
    "\n",
    "#In the dataframe, take the column username, and from that only get the rows where username is 'foodofhamburg'\n",
    "food = df.loc[df['username']=='foodofhamburg']\n",
    "monumentum = df.loc[df['username']=='monumentum_photography']\n",
    "queence = df.loc[df['username']=='queence_design']\n",
    "moin = df.loc[df['username']=='moinworld_e.v']\n",
    "#print(monumentum)"
   ]
  },
  {
   "cell_type": "markdown",
   "metadata": {},
   "source": [
    "**LETS GET INTO PLOTTING**\n",
    "#http://queirozf.com/entries/pandas-dataframe-plot-examples-with-matplotlib-pyplot\n"
   ]
  },
  {
   "cell_type": "code",
   "execution_count": 14,
   "metadata": {},
   "outputs": [],
   "source": [
    "import matplotlib.pyplot as plt\n",
    "#Storing the current wanted username / dataframe in a variable so I just ahve to change it once\n",
    "x = queence"
   ]
  },
  {
   "cell_type": "code",
   "execution_count": 15,
   "metadata": {},
   "outputs": [
    {
     "data": {
      "text/plain": [
       "<matplotlib.axes._subplots.AxesSubplot at 0x6e2dbf90>"
      ]
     },
     "execution_count": 15,
     "metadata": {},
     "output_type": "execute_result"
    },
    {
     "data": {
      "image/png": "[encoded data removed]",
      "text/plain": [
       "<matplotlib.figure.Figure at 0x75b49a90>"
      ]
     },
     "metadata": {
      "needs_background": "light"
     },
     "output_type": "display_data"
    }
   ],
   "source": [
    "#Plotting followers for the dataframe Foodofhamburg\n",
    "x.plot(kind=\"scatter\", x=\"followers\", y=\"following\", color=\"red\")"
   ]
  },
  {
   "cell_type": "code",
   "execution_count": 23,
   "metadata": {},
   "outputs": [
    {
     "data": {
      "text/plain": [
       "<matplotlib.axes._subplots.AxesSubplot at 0x6e2e52f0>"
      ]
     },
     "execution_count": 23,
     "metadata": {},
     "output_type": "execute_result"
    },
    {
     "data": {
      "image/png": "[encoded data removed]",
      "text/plain": [
       "<matplotlib.figure.Figure at 0x6e36e550>"
      ]
     },
     "metadata": {
      "needs_background": "light"
     },
     "output_type": "display_data"
    }
   ],
   "source": [
    "#Plotting followergains per post\n",
    "x.plot(kind='bar', x='posts', y='followers')\n",
    "#Saving image as '1.png'\n",
    "#plt.savefig('1.png')"
   ]
  },
  {
   "cell_type": "code",
   "execution_count": 24,
   "metadata": {},
   "outputs": [
    {
     "data": {
      "text/plain": [
       "<matplotlib.axes._subplots.AxesSubplot at 0x6e195630>"
      ]
     },
     "execution_count": 24,
     "metadata": {},
     "output_type": "execute_result"
    },
    {
     "data": {
      "image/png": "[encoded data removed]",
      "text/plain": [
       "<matplotlib.figure.Figure at 0x6e19d7f0>"
      ]
     },
     "metadata": {
      "needs_background": "light"
     },
     "output_type": "display_data"
    }
   ],
   "source": [
    "x.plot(kind='bar', x='posts', y='followers')\n",
    "#plt.savefig('2.png')"
   ]
  },
  {
   "cell_type": "code",
   "execution_count": 25,
   "metadata": {},
   "outputs": [
    {
     "data": {
      "text/plain": [
       "<matplotlib.axes._subplots.AxesSubplot at 0x6e1339f0>"
      ]
     },
     "execution_count": 25,
     "metadata": {},
     "output_type": "execute_result"
    },
    {
     "data": {
      "image/png": "[encoded data removed]",
      "text/plain": [
       "<matplotlib.figure.Figure at 0x7397be70>"
      ]
     },
     "metadata": {
      "needs_background": "light"
     },
     "output_type": "display_data"
    }
   ],
   "source": [
    "'''LINE PLOT WITH MULTIPLE COLUMNS'''\n",
    "#gca stands for 'get current axis'\n",
    "ax =plt.gca()\n",
    "x.plot(kind='line', x='posts', y='followers', ax=ax)\n",
    "x.plot(kind='line', x='posts', y='following', ax=ax)\n",
    "#plot() takes an optional argument 'ax' which allows you to reuse an axis to plot multiple lines\n",
    "\n",
    "#plt.savefig('3.png')"
   ]
  },
  {
   "cell_type": "code",
   "execution_count": null,
   "metadata": {},
   "outputs": [],
   "source": []
  },
  {
   "cell_type": "code",
   "execution_count": null,
   "metadata": {},
   "outputs": [],
   "source": []
  }
 ],
 "metadata": {
  "kernelspec": {
   "display_name": "Python 3",
   "language": "python",
   "name": "python3"
  },
  "language_info": {
   "codemirror_mode": {
    "name": "ipython",
    "version": 3
   },
   "file_extension": ".py",
   "mimetype": "text/x-python",
   "name": "python",
   "nbconvert_exporter": "python",
   "pygments_lexer": "ipython3",
   "version": "3.5.3"
  }
 },
 "nbformat": 4,
 "nbformat_minor": 2
}
