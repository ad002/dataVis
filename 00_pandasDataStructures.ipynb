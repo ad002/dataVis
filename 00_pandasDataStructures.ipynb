{
 "cells": [
  {
   "cell_type": "code",
   "execution_count": 1,
   "metadata": {},
   "outputs": [],
   "source": [
    "import numpy as np\n",
    "import pandas as pd"
   ]
  },
  {
   "cell_type": "markdown",
   "metadata": {},
   "source": [
    "Two types of data strucutres in pandas: \n",
    "Series and DataFrames\n",
    "https://bit.ly/2IcJSca\n",
    "\n",
    "__________________________________Series___________________________________\n",
    "A pandas Series is a one dimensional data strcuture ('a one dimensional ndarray') that can store values – and for every value it holds a unique indes, too\n",
    "https://bit.ly/2uN7fB7"
   ]
  },
  {
   "cell_type": "code",
   "execution_count": 6,
   "metadata": {},
   "outputs": [
    {
     "name": "stdout",
     "output_type": "stream",
     "text": [
      "Series([], dtype: float64)\n"
     ]
    }
   ],
   "source": [
    "#Creating an Emtpy Series\n",
    "s = pd.Series()\n",
    "print (s)\n",
    "#out:Series([], dtype: float64)"
   ]
  },
  {
   "cell_type": "code",
   "execution_count": 7,
   "metadata": {},
   "outputs": [
    {
     "name": "stdout",
     "output_type": "stream",
     "text": [
      "0    a\n",
      "1    b\n",
      "2    c\n",
      "3    d\n",
      "4    e\n",
      "5    f\n",
      "dtype: object\n"
     ]
    }
   ],
   "source": [
    "#Create a series from array without index:\n",
    "data = np.array(['a','b','c','d','e','f'])\n",
    "s = pd.Series(data)\n",
    "print(s)"
   ]
  },
  {
   "cell_type": "code",
   "execution_count": 14,
   "metadata": {},
   "outputs": [
    {
     "name": "stdout",
     "output_type": "stream",
     "text": [
      "1000    a\n",
      "1001    b\n",
      "1002    c\n",
      "1003    d\n",
      "1004    e\n",
      "1005    f\n",
      "dtype: object\n"
     ]
    }
   ],
   "source": [
    "#Create a series from array with index:\n",
    "data = np.array(['a','b','c','d','e','f'])\n",
    "s = pd.Series(data,index=[1000,1001,1002,1003,1004,1005])\n",
    "print(s)"
   ]
  },
  {
   "cell_type": "code",
   "execution_count": 16,
   "metadata": {},
   "outputs": [
    {
     "name": "stdout",
     "output_type": "stream",
     "text": [
      "b    1.0\n",
      "c    2.0\n",
      "d    NaN\n",
      "a    0.0\n",
      "dtype: float64\n"
     ]
    }
   ],
   "source": [
    "#Create a Series from a Dictionary\n",
    "data = {'a': 0, 'b': 1, 'c':2}\n",
    "s = pd.Series(data,index=['b','c', 'd','a'])\n",
    "print(s)"
   ]
  },
  {
   "cell_type": "code",
   "execution_count": 17,
   "metadata": {},
   "outputs": [
    {
     "name": "stdout",
     "output_type": "stream",
     "text": [
      "0    7\n",
      "1    7\n",
      "2    7\n",
      "3    7\n",
      "dtype: int64\n"
     ]
    }
   ],
   "source": [
    "#Create a Series from a scalar\n",
    "s = pd.Series(7,index=[0,1,2,3])\n",
    "print(s)"
   ]
  },
  {
   "cell_type": "markdown",
   "metadata": {},
   "source": [
    "_______________________________DataFrame___________________________________\n",
    "a pandas DataFrame is a two (or more) dimensional data strucuture – basicalla a table with columns and rows. The columns have names and the rows have indexes\n",
    "https://bit.ly/2UfNv8l"
   ]
  },
  {
   "cell_type": "code",
   "execution_count": 19,
   "metadata": {},
   "outputs": [
    {
     "name": "stdout",
     "output_type": "stream",
     "text": [
      "   Name  Age\n",
      "0   tom   10\n",
      "1  nick   15\n",
      "2  juli   14\n"
     ]
    }
   ],
   "source": [
    "#1 Create Pandas DataFrame from lists of lists\n",
    "\n",
    "data = [['tom',10], ['nick',15],['juli', 14]]\n",
    "\n",
    "#Create a pandas DataFrame\n",
    "df = pd.DataFrame(data, columns=['Name', 'Age'])\n",
    "print(df)"
   ]
  },
  {
   "cell_type": "code",
   "execution_count": 3,
   "metadata": {},
   "outputs": [
    {
     "name": "stdout",
     "output_type": "stream",
     "text": [
      "   Age   Name\n",
      "0   20    Tom\n",
      "1   21   Nick\n",
      "2   19  krish\n",
      "3   18   Jack\n"
     ]
    }
   ],
   "source": [
    "#2 Creating DataFrame from dict of n-array/lists\n",
    "\n",
    "#all arrays must be on same length. \n",
    "#If index is passed then the length index should be equal to length of arrays\n",
    "#No index passed: index will be range of array length by default\n",
    "\n",
    "#initialise data of lists:\n",
    "data = {'Name':['Tom','Nick', 'krish','Jack'], 'Age':[20,21,19,18]}\n",
    "df = pd.DataFrame(data)\n",
    "print (df)"
   ]
  },
  {
   "cell_type": "code",
   "execution_count": 8,
   "metadata": {},
   "outputs": [
    {
     "name": "stdout",
     "output_type": "stream",
     "text": [
      "         Name  marks\n",
      "rank1     Tom     99\n",
      "rank2    Jack     98\n",
      "rank3    Nick     95\n",
      "rank4  Julian     90\n"
     ]
    }
   ],
   "source": [
    "#3 Creating a indexes DataFrame using arrays\n",
    "\n",
    "#initialize data of lists\n",
    "data= {'Name':['Tom','Jack','Nick','Julian'], 'marks':[99,98,95,90]}\n",
    "\n",
    "#Create DataFrame with Rank1-4 as index instead of 0-3\n",
    "df = pd.DataFrame(data, index = ['rank1','rank2','rank3','rank4'])\n",
    "\n",
    "print(df)"
   ]
  },
  {
   "cell_type": "code",
   "execution_count": 2,
   "metadata": {},
   "outputs": [
    {
     "name": "stdout",
     "output_type": "stream",
     "text": [
      "    a   b   c\n",
      "0   1   2   3\n",
      "1  10  20  30\n"
     ]
    }
   ],
   "source": [
    "#4 Creating DataFrame from list of dicts\n",
    "\n",
    "#Passing lists of dictionaries as input data, by default dictionary keys taken as columns\n",
    "\n",
    "#Initialize data to lists \n",
    "data = [{'a':1,'b':2 ,'c':3},{'a':10,'b':20,'c':30}]\n",
    "\n",
    "df = pd.DataFrame(data)\n",
    "\n",
    "print(df)"
   ]
  },
  {
   "cell_type": "code",
   "execution_count": 9,
   "metadata": {},
   "outputs": [
    {
     "name": "stdout",
     "output_type": "stream",
     "text": [
      "           a   b   c\n",
      "1        NaN   2   3\n",
      "second  10.0  20  30\n"
     ]
    }
   ],
   "source": [
    "#Another Example: Creating DataFrame by passing lists of Dictionairies and row indices\n",
    "data = [{'b':2, 'c':3},{'a':10, 'b':20, 'c':30}]\n",
    "\n",
    "#Index can be mix of ints and strings \n",
    "df = pd.DataFrame(data, index=[1,'second'])\n",
    "print(df)"
   ]
  },
  {
   "cell_type": "code",
   "execution_count": 13,
   "metadata": {},
   "outputs": [
    {
     "name": "stdout",
     "output_type": "stream",
     "text": [
      "       a   b\n",
      "first  1   2\n",
      "2      5  10 \n",
      "\n",
      "         a  b2\n",
      "first   1 NaN\n",
      "second  5 NaN\n"
     ]
    }
   ],
   "source": [
    "#Another Example: Creata pandas DataFrame from lists of dictionaries with both row indexes as well as columns index\n",
    "data = [{'a':1,'b':2},{'a':5,'b':10, 'c':20}]\n",
    "\n",
    "#With two column indices, values same as dictionary keys\n",
    "df1 = pd.DataFrame(data, index=['first',2], columns=['a','b'])\n",
    "\n",
    "#With two column indices with one index with other name \n",
    "df2= pd.DataFrame(data, index=['first','second'], columns=['a','b2'])\n",
    "\n",
    "print(df1, '\\n\\n', df2)"
   ]
  },
  {
   "cell_type": "code",
   "execution_count": 20,
   "metadata": {},
   "outputs": [
    {
     "name": "stdout",
     "output_type": "stream",
     "text": [
      "Age\n",
      "    Name  Age\n",
      "0    max   21\n",
      "1  fritz   22\n",
      "2  felix   22\n",
      "3   mert   22\n"
     ]
    }
   ],
   "source": [
    "#5 Creating DataFrame using zip() function\n",
    " \n",
    "#Two lists can be merged by using list(zip()) function. \n",
    "\n",
    "#List 1 \n",
    "Name = ['max','fritz','felix','mert']\n",
    "\n",
    "#List 2\n",
    "Age = [21,22,22,22]\n",
    "\n",
    "#Get the list of tuples from two lists and merge them using zip()\n",
    "list_of_tuples = list(zip(Name,Age))\n",
    "\n",
    "#Assign data to tuples | Not necessary\n",
    "#list_of_tuples\n",
    "\n",
    "\n",
    "#Converting lists of tuples into pandas DataFrame\n",
    "df = pd.DataFrame(list_of_tuples, columns=['Name', 'Age']) #Lists name and age have to be passed in string-brackets \n",
    "#although this gives just the string 'Age' printed, not the list elements and when creating DataFrame Elements of List \n",
    "#'Names' are passed\n",
    "print('Age')\n",
    "\n",
    "print(df)"
   ]
  },
  {
   "cell_type": "code",
   "execution_count": 23,
   "metadata": {},
   "outputs": [
    {
     "name": "stdout",
     "output_type": "stream",
     "text": [
      "   one  two\n",
      "a   10   40\n",
      "b   20   50\n",
      "c   30   60\n",
      "d   40   70\n"
     ]
    }
   ],
   "source": [
    "#6 Creating DataFrame from Dicts of series \n",
    "\n",
    "#Dictionary can be passed to form DataFrame, resultant index is the union\n",
    "#of all the series of passed indexed.\n",
    "\n",
    "#Initialise data to Dicts of series. \n",
    "d = {'one': pd.Series([10,20,30,40], index=['a','b','c','d']),\n",
    "     'two': pd.Series([40,50,60,70], index=['a','b','c','d'])}\n",
    "\n",
    "#Create DataFrame\n",
    "df = pd.DataFrame(d)    \n",
    "\n",
    "print(df)"
   ]
  },
  {
   "cell_type": "code",
   "execution_count": null,
   "metadata": {},
   "outputs": [],
   "source": []
  }
 ],
 "metadata": {
  "kernelspec": {
   "display_name": "Python 3",
   "language": "python",
   "name": "python3"
  },
  "language_info": {
   "codemirror_mode": {
    "name": "ipython",
    "version": 3
   },
   "file_extension": ".py",
   "mimetype": "text/x-python",
   "name": "python",
   "nbconvert_exporter": "python",
   "pygments_lexer": "ipython3",
   "version": "3.5.3"
  }
 },
 "nbformat": 4,
 "nbformat_minor": 2
}
