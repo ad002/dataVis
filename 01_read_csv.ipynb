{
 "cells": [
  {
   "cell_type": "code",
   "execution_count": 10,
   "metadata": {},
   "outputs": [],
   "source": [
    "#First, we have to read in the data we need which is in our current folder\n",
    "import pandas as pd\n",
    "\n",
    "df = pd.read_csv('stats.csv')\n",
    "#print(df)"
   ]
  },
  {
   "cell_type": "code",
   "execution_count": 11,
   "metadata": {},
   "outputs": [],
   "source": [
    "'''FORMATTING THE 'FOLLOWERS' COLUMN'''\n",
    "#First, remove the curly brackets from the 'followers'-column with apply(lambda x: x.replace('toReplace','ReplaceWith'))\n",
    "df['followers']=df['followers'].apply(lambda x: x.replace('{','').replace('}',''))\n",
    "#print(df)"
   ]
  },
  {
   "cell_type": "code",
   "execution_count": 12,
   "metadata": {},
   "outputs": [],
   "source": [
    "#Removing the 'count'\n",
    "df['followers']=df['followers'].apply(lambda x: x.replace('count',''))\n",
    "#print(df)"
   ]
  },
  {
   "cell_type": "code",
   "execution_count": 13,
   "metadata": {},
   "outputs": [],
   "source": [
    "#Removing the '' which only works when using both \"\" '' symicolons\n",
    "df['followers']=df['followers'].apply(lambda x: x.replace(\"''\",''))\n",
    "#print(df)"
   ]
  },
  {
   "cell_type": "code",
   "execution_count": 14,
   "metadata": {},
   "outputs": [
    {
     "name": "stdout",
     "output_type": "stream",
     "text": [
      "              timestamp                username followers        following  \\\n",
      "0   2019-03-11 07:58:19           foodofhamburg      1029  {'count': 1289}   \n",
      "1   2019-03-12 06:40:40  monumentum_photography       508   {'count': 832}   \n",
      "2   2019-03-12 06:41:50          queence_design       232   {'count': 340}   \n",
      "3   2019-03-12 06:42:54           foodofhamburg      1030  {'count': 1318}   \n",
      "4   2019-03-12 06:44:00           moinworld_e.v       477   {'count': 842}   \n",
      "5   2019-03-13 06:37:20  monumentum_photography       501   {'count': 832}   \n",
      "6   2019-03-13 06:38:26          queence_design       234   {'count': 346}   \n",
      "7   2019-03-13 06:39:30           foodofhamburg      1004  {'count': 1320}   \n",
      "8   2019-03-13 06:40:39           moinworld_e.v       477   {'count': 842}   \n",
      "9   2019-03-14 06:47:38  monumentum_photography       501   {'count': 831}   \n",
      "10  2019-03-14 06:48:42          queence_design       242   {'count': 350}   \n",
      "11  2019-03-14 06:49:44           foodofhamburg      1020  {'count': 1335}   \n",
      "12  2019-03-14 06:50:51           moinworld_e.v       483   {'count': 843}   \n",
      "13  2019-03-15 06:52:46  monumentum_photography       507   {'count': 848}   \n",
      "14  2019-03-15 06:53:51          queence_design       235   {'count': 352}   \n",
      "15  2019-03-15 06:54:53           foodofhamburg      1008  {'count': 1333}   \n",
      "16  2019-03-15 06:55:57           moinworld_e.v       486   {'count': 844}   \n",
      "17  2019-03-18 07:01:24  monumentum_photography       548   {'count': 930}   \n",
      "18  2019-03-18 07:02:29          queence_design       272   {'count': 398}   \n",
      "19  2019-03-18 07:03:30           foodofhamburg      1040  {'count': 1423}   \n",
      "20  2019-03-18 07:04:34           moinworld_e.v       482   {'count': 844}   \n",
      "21  2019-03-19 07:02:07  monumentum_photography       568   {'count': 962}   \n",
      "22  2019-03-19 07:03:12          queence_design       299   {'count': 419}   \n",
      "23  2019-03-19 07:04:14           foodofhamburg      1060  {'count': 1465}   \n",
      "24  2019-03-19 07:05:18           moinworld_e.v       490   {'count': 844}   \n",
      "25  2019-03-20 06:59:11  monumentum_photography       578   {'count': 997}   \n",
      "26  2019-03-20 07:00:14          queence_design       321   {'count': 441}   \n",
      "27  2019-03-20 07:01:14           foodofhamburg      1091  {'count': 1503}   \n",
      "28  2019-03-20 07:02:14           moinworld_e.v       485   {'count': 845}   \n",
      "29  2019-03-21 09:23:40  monumentum_photography       607  {'count': 1028}   \n",
      "..                  ...                     ...       ...              ...   \n",
      "67  2019-03-31 08:06:02           foodofhamburg      1360  {'count': 1925}   \n",
      "68  2019-03-31 08:07:37           moinworld_e.v       491   {'count': 843}   \n",
      "69  2019-04-01 16:25:31  monumentum_photography       753   {'count': 547}   \n",
      "70  2019-04-01 16:25:47          queence_design       474   {'count': 767}   \n",
      "71  2019-04-01 16:26:06           foodofhamburg      1335  {'count': 1927}   \n",
      "72  2019-04-01 16:26:20           moinworld_e.v       494   {'count': 844}   \n",
      "73  2019-04-02 11:22:20  monumentum_photography       737   {'count': 543}   \n",
      "74  2019-04-02 11:22:36          queence_design       454   {'count': 769}   \n",
      "75  2019-04-02 11:22:55           foodofhamburg      1331  {'count': 1930}   \n",
      "76  2019-04-02 11:23:10           moinworld_e.v       490   {'count': 844}   \n",
      "77  2019-04-04 16:39:41  monumentum_photography       740   {'count': 586}   \n",
      "78  2019-04-04 16:39:57          queence_design       496   {'count': 825}   \n",
      "79  2019-04-04 16:40:16           foodofhamburg      1375  {'count': 2020}   \n",
      "80  2019-04-04 16:40:30           moinworld_e.v       493   {'count': 846}   \n",
      "81  2019-04-05 13:04:36  monumentum_photography       783   {'count': 605}   \n",
      "82  2019-04-05 13:04:52          queence_design       504   {'count': 853}   \n",
      "83  2019-04-05 13:05:11           foodofhamburg      1399  {'count': 2053}   \n",
      "84  2019-04-05 13:05:25           moinworld_e.v       493   {'count': 846}   \n",
      "85  2019-04-10 07:50:35  monumentum_photography       830   {'count': 723}   \n",
      "86  2019-04-10 07:51:39          queence_design       575   {'count': 984}   \n",
      "87  2019-04-10 07:52:45           foodofhamburg      1508  {'count': 2213}   \n",
      "88  2019-04-10 07:53:46           moinworld_e.v       499   {'count': 844}   \n",
      "89  2019-04-11 08:02:00  monumentum_photography       851   {'count': 741}   \n",
      "90  2019-04-11 08:03:06          queence_design       591  {'count': 1007}   \n",
      "91  2019-04-11 08:04:10           foodofhamburg      1533  {'count': 2244}   \n",
      "92  2019-04-11 08:05:09           moinworld_e.v       501   {'count': 843}   \n",
      "93  2019-04-12 08:01:47  monumentum_photography       865   {'count': 762}   \n",
      "94  2019-04-12 08:02:51          queence_design       609  {'count': 1026}   \n",
      "95  2019-04-12 08:03:53           foodofhamburg      1568  {'count': 2281}   \n",
      "96  2019-04-12 08:04:53           moinworld_e.v       502   {'count': 843}   \n",
      "\n",
      "    posts  likes  comments  \n",
      "0     103   1069        22  \n",
      "1      61    693        18  \n",
      "2      37    375        11  \n",
      "3     105   1015        20  \n",
      "4     129    580        22  \n",
      "5      62    621        18  \n",
      "6      39    324        12  \n",
      "7     108    810        13  \n",
      "8     129    581        22  \n",
      "9      62    639        18  \n",
      "10     40    352        11  \n",
      "11    110    658        12  \n",
      "12    129    583        23  \n",
      "13     62    673        18  \n",
      "14     40    355        11  \n",
      "15    112    527        11  \n",
      "16    130    559        23  \n",
      "17     64    625        13  \n",
      "18     46    361         8  \n",
      "19    114    569         8  \n",
      "20    130    573        24  \n",
      "21     66    601        10  \n",
      "22     48    375         9  \n",
      "23    114    653        10  \n",
      "24    131    567        24  \n",
      "25     67    609         9  \n",
      "26     48    416         8  \n",
      "27    114    731        11  \n",
      "28    132    548        21  \n",
      "29     69    605         7  \n",
      "..    ...    ...       ...  \n",
      "67    114   1382        31  \n",
      "68    134    528        21  \n",
      "69     82      0         0  \n",
      "70     67      0         0  \n",
      "71    114      0         0  \n",
      "72    134      0         0  \n",
      "73     81      0         0  \n",
      "74     67      0         0  \n",
      "75    114      0         0  \n",
      "76    134      0         0  \n",
      "77     82      0         0  \n",
      "78     70      0         0  \n",
      "79    114      0         0  \n",
      "80    134      0         0  \n",
      "81     83      0         0  \n",
      "82     69      0         0  \n",
      "83    114      0         0  \n",
      "84    134      0         0  \n",
      "85     82    594         9  \n",
      "86     74    465        10  \n",
      "87    114   1952        37  \n",
      "88    134    547        22  \n",
      "89     82    633        11  \n",
      "90     75    489        11  \n",
      "91    114   1988        37  \n",
      "92    134    548        21  \n",
      "93     82    663        11  \n",
      "94     76    499         9  \n",
      "95    114   2044        37  \n",
      "96    134    552        22  \n",
      "\n",
      "[97 rows x 7 columns]\n"
     ]
    }
   ],
   "source": [
    "#Finally: Removing the ':'\n",
    "df['followers']=df['followers'].apply(lambda x: x.replace(':',''))\n",
    "print(df)"
   ]
  },
  {
   "cell_type": "code",
   "execution_count": 16,
   "metadata": {},
   "outputs": [],
   "source": [
    "#Now, just convert the whole column to int \n",
    "df['followers']=df['followers'].astype(int)"
   ]
  },
  {
   "cell_type": "code",
   "execution_count": 17,
   "metadata": {},
   "outputs": [
    {
     "name": "stdout",
     "output_type": "stream",
     "text": [
      "              timestamp                username  followers following  posts  \\\n",
      "0   2019-03-11 07:58:19           foodofhamburg       1029      1289    103   \n",
      "1   2019-03-12 06:40:40  monumentum_photography        508       832     61   \n",
      "2   2019-03-12 06:41:50          queence_design        232       340     37   \n",
      "3   2019-03-12 06:42:54           foodofhamburg       1030      1318    105   \n",
      "4   2019-03-12 06:44:00           moinworld_e.v        477       842    129   \n",
      "5   2019-03-13 06:37:20  monumentum_photography        501       832     62   \n",
      "6   2019-03-13 06:38:26          queence_design        234       346     39   \n",
      "7   2019-03-13 06:39:30           foodofhamburg       1004      1320    108   \n",
      "8   2019-03-13 06:40:39           moinworld_e.v        477       842    129   \n",
      "9   2019-03-14 06:47:38  monumentum_photography        501       831     62   \n",
      "10  2019-03-14 06:48:42          queence_design        242       350     40   \n",
      "11  2019-03-14 06:49:44           foodofhamburg       1020      1335    110   \n",
      "12  2019-03-14 06:50:51           moinworld_e.v        483       843    129   \n",
      "13  2019-03-15 06:52:46  monumentum_photography        507       848     62   \n",
      "14  2019-03-15 06:53:51          queence_design        235       352     40   \n",
      "15  2019-03-15 06:54:53           foodofhamburg       1008      1333    112   \n",
      "16  2019-03-15 06:55:57           moinworld_e.v        486       844    130   \n",
      "17  2019-03-18 07:01:24  monumentum_photography        548       930     64   \n",
      "18  2019-03-18 07:02:29          queence_design        272       398     46   \n",
      "19  2019-03-18 07:03:30           foodofhamburg       1040      1423    114   \n",
      "20  2019-03-18 07:04:34           moinworld_e.v        482       844    130   \n",
      "21  2019-03-19 07:02:07  monumentum_photography        568       962     66   \n",
      "22  2019-03-19 07:03:12          queence_design        299       419     48   \n",
      "23  2019-03-19 07:04:14           foodofhamburg       1060      1465    114   \n",
      "24  2019-03-19 07:05:18           moinworld_e.v        490       844    131   \n",
      "25  2019-03-20 06:59:11  monumentum_photography        578       997     67   \n",
      "26  2019-03-20 07:00:14          queence_design        321       441     48   \n",
      "27  2019-03-20 07:01:14           foodofhamburg       1091      1503    114   \n",
      "28  2019-03-20 07:02:14           moinworld_e.v        485       845    132   \n",
      "29  2019-03-21 09:23:40  monumentum_photography        607      1028     69   \n",
      "..                  ...                     ...        ...       ...    ...   \n",
      "67  2019-03-31 08:06:02           foodofhamburg       1360      1925    114   \n",
      "68  2019-03-31 08:07:37           moinworld_e.v        491       843    134   \n",
      "69  2019-04-01 16:25:31  monumentum_photography        753       547     82   \n",
      "70  2019-04-01 16:25:47          queence_design        474       767     67   \n",
      "71  2019-04-01 16:26:06           foodofhamburg       1335      1927    114   \n",
      "72  2019-04-01 16:26:20           moinworld_e.v        494       844    134   \n",
      "73  2019-04-02 11:22:20  monumentum_photography        737       543     81   \n",
      "74  2019-04-02 11:22:36          queence_design        454       769     67   \n",
      "75  2019-04-02 11:22:55           foodofhamburg       1331      1930    114   \n",
      "76  2019-04-02 11:23:10           moinworld_e.v        490       844    134   \n",
      "77  2019-04-04 16:39:41  monumentum_photography        740       586     82   \n",
      "78  2019-04-04 16:39:57          queence_design        496       825     70   \n",
      "79  2019-04-04 16:40:16           foodofhamburg       1375      2020    114   \n",
      "80  2019-04-04 16:40:30           moinworld_e.v        493       846    134   \n",
      "81  2019-04-05 13:04:36  monumentum_photography        783       605     83   \n",
      "82  2019-04-05 13:04:52          queence_design        504       853     69   \n",
      "83  2019-04-05 13:05:11           foodofhamburg       1399      2053    114   \n",
      "84  2019-04-05 13:05:25           moinworld_e.v        493       846    134   \n",
      "85  2019-04-10 07:50:35  monumentum_photography        830       723     82   \n",
      "86  2019-04-10 07:51:39          queence_design        575       984     74   \n",
      "87  2019-04-10 07:52:45           foodofhamburg       1508      2213    114   \n",
      "88  2019-04-10 07:53:46           moinworld_e.v        499       844    134   \n",
      "89  2019-04-11 08:02:00  monumentum_photography        851       741     82   \n",
      "90  2019-04-11 08:03:06          queence_design        591      1007     75   \n",
      "91  2019-04-11 08:04:10           foodofhamburg       1533      2244    114   \n",
      "92  2019-04-11 08:05:09           moinworld_e.v        501       843    134   \n",
      "93  2019-04-12 08:01:47  monumentum_photography        865       762     82   \n",
      "94  2019-04-12 08:02:51          queence_design        609      1026     76   \n",
      "95  2019-04-12 08:03:53           foodofhamburg       1568      2281    114   \n",
      "96  2019-04-12 08:04:53           moinworld_e.v        502       843    134   \n",
      "\n",
      "    likes  comments  \n",
      "0    1069        22  \n",
      "1     693        18  \n",
      "2     375        11  \n",
      "3    1015        20  \n",
      "4     580        22  \n",
      "5     621        18  \n",
      "6     324        12  \n",
      "7     810        13  \n",
      "8     581        22  \n",
      "9     639        18  \n",
      "10    352        11  \n",
      "11    658        12  \n",
      "12    583        23  \n",
      "13    673        18  \n",
      "14    355        11  \n",
      "15    527        11  \n",
      "16    559        23  \n",
      "17    625        13  \n",
      "18    361         8  \n",
      "19    569         8  \n",
      "20    573        24  \n",
      "21    601        10  \n",
      "22    375         9  \n",
      "23    653        10  \n",
      "24    567        24  \n",
      "25    609         9  \n",
      "26    416         8  \n",
      "27    731        11  \n",
      "28    548        21  \n",
      "29    605         7  \n",
      "..    ...       ...  \n",
      "67   1382        31  \n",
      "68    528        21  \n",
      "69      0         0  \n",
      "70      0         0  \n",
      "71      0         0  \n",
      "72      0         0  \n",
      "73      0         0  \n",
      "74      0         0  \n",
      "75      0         0  \n",
      "76      0         0  \n",
      "77      0         0  \n",
      "78      0         0  \n",
      "79      0         0  \n",
      "80      0         0  \n",
      "81      0         0  \n",
      "82      0         0  \n",
      "83      0         0  \n",
      "84      0         0  \n",
      "85    594         9  \n",
      "86    465        10  \n",
      "87   1952        37  \n",
      "88    547        22  \n",
      "89    633        11  \n",
      "90    489        11  \n",
      "91   1988        37  \n",
      "92    548        21  \n",
      "93    663        11  \n",
      "94    499         9  \n",
      "95   2044        37  \n",
      "96    552        22  \n",
      "\n",
      "[97 rows x 7 columns]\n"
     ]
    }
   ],
   "source": [
    "'''FORMATTING THE FOLLOWING COLUMN'''\n",
    "#Removing the curly brackets\n",
    "df['following']=df['following'].apply(lambda x: x.replace('{','').replace('}',''))\n",
    "#Removing the 'count'\n",
    "df['following']=df['following'].apply(lambda x: x.replace('count',''))\n",
    "#Removing the '' which only works when using both \"\" '' symicolons\n",
    "df['following']=df['following'].apply(lambda x: x.replace(\"''\",''))\n",
    "#Finally: Removing the ':'\n",
    "df['following']=df['following'].apply(lambda x: x.replace(':',''))\n",
    "print(df)"
   ]
  },
  {
   "cell_type": "code",
   "execution_count": 18,
   "metadata": {},
   "outputs": [],
   "source": [
    "#Converting to int\n",
    "df['following']=df['following'].astype(int)"
   ]
  },
  {
   "cell_type": "code",
   "execution_count": 20,
   "metadata": {},
   "outputs": [],
   "source": [
    "'''NOW SELECTING THE EXACT USERNAME WE WANT AND ASSIGN TO VARIABLE'''\n",
    "\n",
    "#.loc method allows to select columns and rows by label(s)\n",
    "\n",
    "#In the dataframe, take the column username, and from that only get the rows where username is 'foodofhamburg'\n",
    "food = df.loc[df['username']=='foodofhamburg']\n",
    "monumentum = df.loc[df['username']=='monumentum_photography']\n",
    "queence = df.loc[df['username']=='queence_design']\n",
    "moin = df.loc[df['username']=='moinworld_e.v']\n",
    "#print(monumentum)"
   ]
  },
  {
   "cell_type": "markdown",
   "metadata": {},
   "source": [
    "**LETS GET INTO PLOTTING**\n",
    "#http://queirozf.com/entries/pandas-dataframe-plot-examples-with-matplotlib-pyplot\n"
   ]
  },
  {
   "cell_type": "code",
   "execution_count": 21,
   "metadata": {},
   "outputs": [],
   "source": [
    "import matplotlib.pyplot as plt\n",
    "#Storing the current wanted username / dataframe in a variable so I just ahve to change it once\n",
    "x = queence"
   ]
  },
  {
   "cell_type": "code",
   "execution_count": 22,
   "metadata": {},
   "outputs": [
    {
     "data": {
      "text/plain": [
       "<matplotlib.axes._subplots.AxesSubplot at 0x6e36ed30>"
      ]
     },
     "execution_count": 22,
     "metadata": {},
     "output_type": "execute_result"
    },
    {
     "data": {
      "image/png": "[encoded data removed]",
      "text/plain": [
       "<matplotlib.figure.Figure at 0x6e36e770>"
      ]
     },
     "metadata": {
      "needs_background": "light"
     },
     "output_type": "display_data"
    }
   ],
   "source": [
    "#Plotting followers for the dataframe Foodofhamburg\n",
    "x.plot(kind=\"scatter\", x=\"followers\", y=\"following\", color=\"red\")"
   ]
  },
  {
   "cell_type": "code",
   "execution_count": 23,
   "metadata": {},
   "outputs": [
    {
     "data": {
      "text/plain": [
       "<matplotlib.axes._subplots.AxesSubplot at 0x6e2e52f0>"
      ]
     },
     "execution_count": 23,
     "metadata": {},
     "output_type": "execute_result"
    },
    {
     "data": {
      "image/png": "[encoded data removed]",
      "text/plain": [
       "<matplotlib.figure.Figure at 0x6e36e550>"
      ]
     },
     "metadata": {
      "needs_background": "light"
     },
     "output_type": "display_data"
    }
   ],
   "source": [
    "#Plotting followergains per post\n",
    "x.plot(kind='bar', x='posts', y='followers')\n",
    "#Saving image as '1.png'\n",
    "#plt.savefig('1.png')"
   ]
  },
  {
   "cell_type": "code",
   "execution_count": 24,
   "metadata": {},
   "outputs": [
    {
     "data": {
      "text/plain": [
       "<matplotlib.axes._subplots.AxesSubplot at 0x6e195630>"
      ]
     },
     "execution_count": 24,
     "metadata": {},
     "output_type": "execute_result"
    },
    {
     "data": {
      "image/png": "[encoded data removed]",
      "text/plain": [
       "<matplotlib.figure.Figure at 0x6e19d7f0>"
      ]
     },
     "metadata": {
      "needs_background": "light"
     },
     "output_type": "display_data"
    }
   ],
   "source": [
    "x.plot(kind='bar', x='posts', y='followers')\n",
    "#plt.savefig('2.png')"
   ]
  },
  {
   "cell_type": "code",
   "execution_count": 25,
   "metadata": {},
   "outputs": [
    {
     "data": {
      "text/plain": [
       "<matplotlib.axes._subplots.AxesSubplot at 0x6e1339f0>"
      ]
     },
     "execution_count": 25,
     "metadata": {},
     "output_type": "execute_result"
    },
    {
     "data": {
      "image/png": "[encoded data removed]",
      "text/plain": [
       "<matplotlib.figure.Figure at 0x7397be70>"
      ]
     },
     "metadata": {
      "needs_background": "light"
     },
     "output_type": "display_data"
    }
   ],
   "source": [
    "'''LINE PLOT WITH MULTIPLE COLUMNS'''\n",
    "#gca stands for 'get current axis'\n",
    "ax =plt.gca()\n",
    "x.plot(kind='line', x='posts', y='followers', ax=ax)\n",
    "x.plot(kind='line', x='posts', y='following', ax=ax)\n",
    "#plot() takes an optional argument 'ax' which allows you to reuse an axis to plot multiple lines\n",
    "\n",
    "#plt.savefig('3.png')"
   ]
  },
  {
   "cell_type": "code",
   "execution_count": null,
   "metadata": {},
   "outputs": [],
   "source": []
  },
  {
   "cell_type": "code",
   "execution_count": null,
   "metadata": {},
   "outputs": [],
   "source": []
  }
 ],
 "metadata": {
  "kernelspec": {
   "display_name": "Python 3",
   "language": "python",
   "name": "python3"
  },
  "language_info": {
   "codemirror_mode": {
    "name": "ipython",
    "version": 3
   },
   "file_extension": ".py",
   "mimetype": "text/x-python",
   "name": "python",
   "nbconvert_exporter": "python",
   "pygments_lexer": "ipython3",
   "version": "3.5.3"
  }
 },
 "nbformat": 4,
 "nbformat_minor": 2
}
